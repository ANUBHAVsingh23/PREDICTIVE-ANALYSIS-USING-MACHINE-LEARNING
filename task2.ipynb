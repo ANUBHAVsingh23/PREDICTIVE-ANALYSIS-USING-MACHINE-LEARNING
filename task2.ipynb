{
  "nbformat": 4,
  "nbformat_minor": 0,
  "metadata": {
    "colab": {
      "provenance": []
    },
    "kernelspec": {
      "name": "python3",
      "display_name": "Python 3"
    },
    "language_info": {
      "name": "python"
    }
  },
  "cells": [
    {
      "cell_type": "markdown",
      "source": [
        "# **Task 2**"
      ],
      "metadata": {
        "id": "GQsDFKhLPHAd"
      }
    },
    {
      "cell_type": "markdown",
      "source": [
        "# Step 1: Install and Import"
      ],
      "metadata": {
        "id": "AMQm8_wORagz"
      }
    },
    {
      "cell_type": "code",
      "source": [
        "!pip install -q pyspark\n"
      ],
      "metadata": {
        "id": "v_Xh3XSAPLcF"
      },
      "execution_count": 22,
      "outputs": []
    },
    {
      "cell_type": "markdown",
      "source": [
        "# Import Libraries"
      ],
      "metadata": {
        "id": "pAGjS0jaRgF7"
      }
    },
    {
      "cell_type": "code",
      "source": [
        "from pyspark.sql import SparkSession\n",
        "from pyspark.sql.functions import when\n",
        "from pyspark.ml.feature import VectorAssembler\n",
        "from pyspark.ml.regression import LinearRegression\n",
        "from pyspark.ml.classification import LogisticRegression\n",
        "from pyspark.ml.evaluation import RegressionEvaluator, MulticlassClassificationEvaluator\n"
      ],
      "metadata": {
        "id": "aKhHC8e_Pni9"
      },
      "execution_count": 31,
      "outputs": []
    },
    {
      "cell_type": "markdown",
      "source": [
        "# Step 2: Create Spark Session and Load Data"
      ],
      "metadata": {
        "id": "4HNkPex4RpUf"
      }
    },
    {
      "cell_type": "code",
      "source": [
        "spark = SparkSession.builder.appName(\"HousingMLModels\").getOrCreate()\n",
        "df = spark.read.csv(\"housing.csv\", header=True, inferSchema=True).dropna()\n",
        "df.printSchema()\n"
      ],
      "metadata": {
        "colab": {
          "base_uri": "https://localhost:8080/"
        },
        "id": "RHSkF1jRPpzq",
        "outputId": "94a53a08-52c8-4d12-bbdf-aaa7c2e19d65"
      },
      "execution_count": 32,
      "outputs": [
        {
          "output_type": "stream",
          "name": "stdout",
          "text": [
            "root\n",
            " |-- longitude: double (nullable = true)\n",
            " |-- latitude: double (nullable = true)\n",
            " |-- housing_median_age: double (nullable = true)\n",
            " |-- total_rooms: double (nullable = true)\n",
            " |-- total_bedrooms: double (nullable = true)\n",
            " |-- population: double (nullable = true)\n",
            " |-- households: double (nullable = true)\n",
            " |-- median_income: double (nullable = true)\n",
            " |-- median_house_value: double (nullable = true)\n",
            " |-- ocean_proximity: string (nullable = true)\n",
            "\n"
          ]
        }
      ]
    },
    {
      "cell_type": "markdown",
      "source": [
        "# REGRESSION MODEL (Predict House Value)"
      ],
      "metadata": {
        "id": "7wUvIo9bRskA"
      }
    },
    {
      "cell_type": "code",
      "source": [
        "feature_cols = [\"housing_median_age\", \"total_rooms\", \"total_bedrooms\", \"population\", \"households\", \"median_income\"]\n",
        "assembler = VectorAssembler(inputCols=feature_cols, outputCol=\"features\")\n",
        "reg_df = assembler.transform(df).select(\"features\", \"median_house_value\")\n"
      ],
      "metadata": {
        "id": "AexiE9NgPu9L"
      },
      "execution_count": 33,
      "outputs": []
    },
    {
      "cell_type": "markdown",
      "source": [
        "# Model Training"
      ],
      "metadata": {
        "id": "zwxaorQyR1B1"
      }
    },
    {
      "cell_type": "code",
      "source": [
        "train_reg, test_reg = reg_df.randomSplit([0.8, 0.2], seed=42)\n",
        "lr = LinearRegression(labelCol=\"median_house_value\", featuresCol=\"features\")\n",
        "lr_model = lr.fit(train_reg)\n",
        "pred_reg = lr_model.transform(test_reg)\n"
      ],
      "metadata": {
        "id": "9MTm7u3ePya8"
      },
      "execution_count": 34,
      "outputs": []
    },
    {
      "cell_type": "markdown",
      "source": [
        "# 📉 Evaluation"
      ],
      "metadata": {
        "id": "RhyrtOfJR60X"
      }
    },
    {
      "cell_type": "code",
      "source": [
        "reg_eval_rmse = RegressionEvaluator(labelCol=\"median_house_value\", predictionCol=\"prediction\", metricName=\"rmse\")\n",
        "reg_eval_r2 = RegressionEvaluator(labelCol=\"median_house_value\", predictionCol=\"prediction\", metricName=\"r2\")\n",
        "print(\"Regression RMSE:\", reg_eval_rmse.evaluate(pred_reg))\n",
        "print(\"Regression R²:\", reg_eval_r2.evaluate(pred_reg))\n"
      ],
      "metadata": {
        "colab": {
          "base_uri": "https://localhost:8080/"
        },
        "id": "Fez8LU5hP1FX",
        "outputId": "64a1f80a-15a6-4335-e558-cfd77f4149a5"
      },
      "execution_count": 35,
      "outputs": [
        {
          "output_type": "stream",
          "name": "stdout",
          "text": [
            "Regression RMSE: 76768.14224622416\n",
            "Regression R²: 0.5468983835741774\n"
          ]
        }
      ]
    },
    {
      "cell_type": "markdown",
      "source": [
        "CLASSIFICATION MODEL (Predict Price Category)\n",
        "# 🎯 Step 1: Create Label Column"
      ],
      "metadata": {
        "id": "GNgOBc1sSESG"
      }
    },
    {
      "cell_type": "code",
      "source": [
        "# Add classification label column\n",
        "df_class = df.withColumn(\"price_label\", when(df[\"median_house_value\"] < 150000, 0)\n",
        "                                        .when((df[\"median_house_value\"] >= 150000) & (df[\"median_house_value\"] <= 300000), 1)\n",
        "                                        .otherwise(2))\n"
      ],
      "metadata": {
        "id": "0my3ZbVuP39W"
      },
      "execution_count": 36,
      "outputs": []
    },
    {
      "cell_type": "markdown",
      "source": [
        "# Feature Selection"
      ],
      "metadata": {
        "id": "A0spP3WNSJs4"
      }
    },
    {
      "cell_type": "code",
      "source": [
        "assembler = VectorAssembler(inputCols=feature_cols, outputCol=\"features\")\n",
        "class_df = assembler.transform(df_class).select(\"features\", \"price_label\")\n"
      ],
      "metadata": {
        "id": "4Kv3QjntP6hA"
      },
      "execution_count": 37,
      "outputs": []
    },
    {
      "cell_type": "markdown",
      "source": [
        "# Model Training (Logistic Regression)"
      ],
      "metadata": {
        "id": "lG5Ni1xoSOW6"
      }
    },
    {
      "cell_type": "code",
      "source": [
        "train_cls, test_cls = class_df.randomSplit([0.8, 0.2], seed=42)\n",
        "logr = LogisticRegression(labelCol=\"price_label\", featuresCol=\"features\", maxIter=10)\n",
        "logr_model = logr.fit(train_cls)\n",
        "pred_cls = logr_model.transform(test_cls)\n"
      ],
      "metadata": {
        "id": "VtFx4_bbROfU"
      },
      "execution_count": 38,
      "outputs": []
    },
    {
      "cell_type": "markdown",
      "source": [
        "# 📉 Evaluation"
      ],
      "metadata": {
        "id": "KnOWtDMWSURC"
      }
    },
    {
      "cell_type": "code",
      "source": [
        "evaluator = MulticlassClassificationEvaluator(labelCol=\"price_label\", predictionCol=\"prediction\", metricName=\"accuracy\")\n",
        "print(\"Classification Accuracy:\", evaluator.evaluate(pred_cls))\n"
      ],
      "metadata": {
        "colab": {
          "base_uri": "https://localhost:8080/"
        },
        "id": "7FKXexxnRSNu",
        "outputId": "9f9f02fa-fa84-4d29-9997-97386c26ac6a"
      },
      "execution_count": 39,
      "outputs": [
        {
          "output_type": "stream",
          "name": "stdout",
          "text": [
            "Classification Accuracy: 0.6948984645864289\n"
          ]
        }
      ]
    },
    {
      "cell_type": "markdown",
      "source": [
        "### Insights:\n",
        "- Linear Regression shows how income and rooms influence house value.\n",
        "- Classification simplifies house values into low, mid, high price classes.\n",
        "- Classification Accuracy gives a quick view of model effectiveness for categorical prediction.\n"
      ],
      "metadata": {
        "id": "1MajxHXUP-Rw"
      }
    }
  ]
}